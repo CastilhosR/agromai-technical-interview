{
 "cells": [
  {
   "cell_type": "code",
   "execution_count": 1,
   "id": "34da9a7a-33f4-4fbb-b8e6-4f9e1cfafd2d",
   "metadata": {
    "tags": []
   },
   "outputs": [],
   "source": [
    "import numpy as np\n",
    "import pandas as pd\n",
    "import pickle"
   ]
  },
  {
   "cell_type": "code",
   "execution_count": 2,
   "id": "8c0e10f6-654d-4346-9d02-314e9f2c7955",
   "metadata": {},
   "outputs": [],
   "source": [
    "df_raw = pd.read_csv('./data/sales_data.csv')"
   ]
  },
  {
   "cell_type": "code",
   "execution_count": 3,
   "id": "d670e02c-87af-42bd-919c-f7e97a1ded9d",
   "metadata": {},
   "outputs": [
    {
     "name": "stdout",
     "output_type": "stream",
     "text": [
      "1000 lihas e 5 colunas\n"
     ]
    }
   ],
   "source": [
    "l, c = df_raw.shape\n",
    "print(f'{l} lihas e {c} colunas' )"
   ]
  },
  {
   "cell_type": "code",
   "execution_count": 4,
   "id": "584222f7-4711-4d70-88b4-879d0e03f645",
   "metadata": {
    "tags": []
   },
   "outputs": [],
   "source": [
    "df_raw['sale_date'] = pd.to_datetime(df_raw[\"sale_date\"])"
   ]
  },
  {
   "cell_type": "code",
   "execution_count": 5,
   "id": "0876561e-0da3-4bb7-8db2-235a0e7cefb4",
   "metadata": {
    "tags": []
   },
   "outputs": [],
   "source": [
    "columns_with_null = df_raw.columns[df_raw.isnull().any()].tolist()"
   ]
  },
  {
   "cell_type": "code",
   "execution_count": 6,
   "id": "aceb7f97-bf8a-44d6-86e8-9de832475685",
   "metadata": {},
   "outputs": [],
   "source": [
    "missing_values = {}\n",
    "\n",
    "for col in columns_with_null:\n",
    "    missing_values[col] = df_raw[col].isna().sum()"
   ]
  },
  {
   "cell_type": "code",
   "execution_count": 7,
   "id": "7c8e5c85-2718-452d-88d8-faeec8a6f455",
   "metadata": {
    "tags": []
   },
   "outputs": [],
   "source": [
    "aux1 = df_raw['category'].value_counts().idxmax()"
   ]
  },
  {
   "cell_type": "code",
   "execution_count": 8,
   "id": "ddc3cb84-c63a-445d-b091-1f8c8130ccca",
   "metadata": {
    "tags": []
   },
   "outputs": [],
   "source": [
    "df1 = df_raw.copy()"
   ]
  },
  {
   "cell_type": "code",
   "execution_count": 9,
   "id": "3ec188f7-4ced-4d92-ad4e-c19366887a8c",
   "metadata": {
    "tags": []
   },
   "outputs": [],
   "source": [
    "df1['category'] = df1['category'].fillna(aux1)"
   ]
  },
  {
   "cell_type": "code",
   "execution_count": 10,
   "id": "c32a7a37-b1bf-423c-8d58-53ff13c6c8e6",
   "metadata": {
    "tags": []
   },
   "outputs": [],
   "source": [
    "cats = df1['category'].unique()"
   ]
  },
  {
   "cell_type": "code",
   "execution_count": 11,
   "id": "882b3bdd-cb37-4ef8-b449-fcb3cd87004e",
   "metadata": {
    "tags": []
   },
   "outputs": [],
   "source": [
    "vendas_cat = df1.groupby('category')['sale_id'].count()"
   ]
  },
  {
   "cell_type": "code",
   "execution_count": 12,
   "id": "d0b90e94-2869-4522-87be-e404281ad6e3",
   "metadata": {
    "tags": []
   },
   "outputs": [],
   "source": [
    "preco_medio_cat = df1.groupby('category')['price'].mean()"
   ]
  },
  {
   "cell_type": "code",
   "execution_count": 13,
   "id": "e442fcb3-a412-44d8-be94-5e0937f7c677",
   "metadata": {
    "tags": []
   },
   "outputs": [],
   "source": [
    "df1['price'] = df1.apply(lambda row: preco_medio_cat.get(row['category']) if pd.isna(row['price']) else row['price'], axis=1)"
   ]
  },
  {
   "cell_type": "code",
   "execution_count": 14,
   "id": "9005df86-2eb1-4f21-9f0a-74d483e72552",
   "metadata": {
    "tags": []
   },
   "outputs": [
    {
     "name": "stdout",
     "output_type": "stream",
     "text": [
      "Total Number of Sales per Category:\n",
      "category\n",
      "Books            179\n",
      "Clothing         185\n",
      "Electronics      238\n",
      "Home & Garden    201\n",
      "Sports           197\n",
      "Name: sale_id, dtype: int64\n"
     ]
    }
   ],
   "source": [
    "print(\"Total Number of Sales per Category:\")\n",
    "print(vendas_cat)"
   ]
  },
  {
   "cell_type": "code",
   "execution_count": 15,
   "id": "452b3957-46fc-44da-a4ab-8d2d68869a1e",
   "metadata": {
    "tags": []
   },
   "outputs": [
    {
     "name": "stdout",
     "output_type": "stream",
     "text": [
      "\n",
      "Average Price per Category:\n",
      "category\n",
      "Books            101.690430\n",
      "Clothing         103.822460\n",
      "Electronics      100.468345\n",
      "Home & Garden    102.661415\n",
      "Sports           101.188330\n",
      "Name: price, dtype: float64\n"
     ]
    }
   ],
   "source": [
    "print(\"\\nAverage Price per Category:\")\n",
    "print(preco_medio_cat)"
   ]
  },
  {
   "cell_type": "code",
   "execution_count": 16,
   "id": "3d66fc0e-10a2-48b4-ac64-2159a7d59fe4",
   "metadata": {
    "tags": []
   },
   "outputs": [
    {
     "name": "stdout",
     "output_type": "stream",
     "text": [
      "\n",
      "Missing Values Handled:\n",
      "{'category': 30, 'price': 49}\n"
     ]
    }
   ],
   "source": [
    "print(\"\\nMissing Values Handled:\")\n",
    "print(missing_values)"
   ]
  },
  {
   "cell_type": "code",
   "execution_count": 17,
   "id": "062a39c4-a7ff-4b9b-97c8-77cb2e2ecec6",
   "metadata": {},
   "outputs": [],
   "source": [
    "pickle.dump(df1, open('./data/sales_data.pkl', 'wb'))"
   ]
  },
  {
   "cell_type": "code",
   "execution_count": 18,
   "id": "7d9d5602-a13e-4507-8269-3739725b27a7",
   "metadata": {},
   "outputs": [
    {
     "data": {
      "text/html": [
       "<div>\n",
       "<style scoped>\n",
       "    .dataframe tbody tr th:only-of-type {\n",
       "        vertical-align: middle;\n",
       "    }\n",
       "\n",
       "    .dataframe tbody tr th {\n",
       "        vertical-align: top;\n",
       "    }\n",
       "\n",
       "    .dataframe thead th {\n",
       "        text-align: right;\n",
       "    }\n",
       "</style>\n",
       "<table border=\"1\" class=\"dataframe\">\n",
       "  <thead>\n",
       "    <tr style=\"text-align: right;\">\n",
       "      <th></th>\n",
       "      <th>sale_id</th>\n",
       "      <th>sale_date</th>\n",
       "      <th>category</th>\n",
       "      <th>price</th>\n",
       "      <th>quantity</th>\n",
       "    </tr>\n",
       "  </thead>\n",
       "  <tbody>\n",
       "    <tr>\n",
       "      <th>0</th>\n",
       "      <td>1</td>\n",
       "      <td>2023-01-01</td>\n",
       "      <td>Home &amp; Garden</td>\n",
       "      <td>102.661415</td>\n",
       "      <td>6</td>\n",
       "    </tr>\n",
       "    <tr>\n",
       "      <th>1</th>\n",
       "      <td>2</td>\n",
       "      <td>2023-01-02</td>\n",
       "      <td>Sports</td>\n",
       "      <td>121.772999</td>\n",
       "      <td>7</td>\n",
       "    </tr>\n",
       "    <tr>\n",
       "      <th>2</th>\n",
       "      <td>3</td>\n",
       "      <td>2023-01-03</td>\n",
       "      <td>Books</td>\n",
       "      <td>114.430277</td>\n",
       "      <td>4</td>\n",
       "    </tr>\n",
       "    <tr>\n",
       "      <th>3</th>\n",
       "      <td>4</td>\n",
       "      <td>2023-01-04</td>\n",
       "      <td>Sports</td>\n",
       "      <td>106.716521</td>\n",
       "      <td>7</td>\n",
       "    </tr>\n",
       "    <tr>\n",
       "      <th>4</th>\n",
       "      <td>5</td>\n",
       "      <td>2023-01-05</td>\n",
       "      <td>Sports</td>\n",
       "      <td>76.285766</td>\n",
       "      <td>9</td>\n",
       "    </tr>\n",
       "    <tr>\n",
       "      <th>5</th>\n",
       "      <td>6</td>\n",
       "      <td>2023-01-06</td>\n",
       "      <td>Clothing</td>\n",
       "      <td>114.144051</td>\n",
       "      <td>2</td>\n",
       "    </tr>\n",
       "    <tr>\n",
       "      <th>6</th>\n",
       "      <td>7</td>\n",
       "      <td>2023-01-07</td>\n",
       "      <td>Books</td>\n",
       "      <td>156.460735</td>\n",
       "      <td>3</td>\n",
       "    </tr>\n",
       "    <tr>\n",
       "      <th>7</th>\n",
       "      <td>8</td>\n",
       "      <td>2023-01-08</td>\n",
       "      <td>Books</td>\n",
       "      <td>140.362601</td>\n",
       "      <td>5</td>\n",
       "    </tr>\n",
       "    <tr>\n",
       "      <th>8</th>\n",
       "      <td>9</td>\n",
       "      <td>2023-01-09</td>\n",
       "      <td>Books</td>\n",
       "      <td>147.795599</td>\n",
       "      <td>3</td>\n",
       "    </tr>\n",
       "    <tr>\n",
       "      <th>9</th>\n",
       "      <td>10</td>\n",
       "      <td>2023-01-10</td>\n",
       "      <td>Sports</td>\n",
       "      <td>84.663530</td>\n",
       "      <td>8</td>\n",
       "    </tr>\n",
       "  </tbody>\n",
       "</table>\n",
       "</div>"
      ],
      "text/plain": [
       "   sale_id  sale_date       category       price  quantity\n",
       "0        1 2023-01-01  Home & Garden  102.661415         6\n",
       "1        2 2023-01-02         Sports  121.772999         7\n",
       "2        3 2023-01-03          Books  114.430277         4\n",
       "3        4 2023-01-04         Sports  106.716521         7\n",
       "4        5 2023-01-05         Sports   76.285766         9\n",
       "5        6 2023-01-06       Clothing  114.144051         2\n",
       "6        7 2023-01-07          Books  156.460735         3\n",
       "7        8 2023-01-08          Books  140.362601         5\n",
       "8        9 2023-01-09          Books  147.795599         3\n",
       "9       10 2023-01-10         Sports   84.663530         8"
      ]
     },
     "execution_count": 18,
     "metadata": {},
     "output_type": "execute_result"
    }
   ],
   "source": [
    "df1.head(10)"
   ]
  }
 ],
 "metadata": {
  "kernelspec": {
   "display_name": "Python 3 (ipykernel)",
   "language": "python",
   "name": "python3"
  },
  "language_info": {
   "codemirror_mode": {
    "name": "ipython",
    "version": 3
   },
   "file_extension": ".py",
   "mimetype": "text/x-python",
   "name": "python",
   "nbconvert_exporter": "python",
   "pygments_lexer": "ipython3",
   "version": "3.10.6"
  }
 },
 "nbformat": 4,
 "nbformat_minor": 5
}
