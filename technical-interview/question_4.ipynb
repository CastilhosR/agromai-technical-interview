{
 "cells": [
  {
   "cell_type": "code",
   "execution_count": 1,
   "id": "16a7c986-442d-4cec-99ce-4a8712ebf943",
   "metadata": {
    "tags": []
   },
   "outputs": [],
   "source": [
    "import pandas as pd\n",
    "import numpy as np\n",
    "from scipy import stats\n",
    "import matplotlib.pyplot as plt\n",
    "import logging\n",
    "import pickle"
   ]
  },
  {
   "cell_type": "code",
   "execution_count": 2,
   "id": "d6807584-f323-4841-bc8c-2f7cc54d7c7e",
   "metadata": {
    "tags": []
   },
   "outputs": [],
   "source": [
    "# Configuração do logging\n",
    "logging.basicConfig(\n",
    "    level=logging.INFO,\n",
    "    format='%(asctime)s - %(levelname)s - %(message)s',\n",
    "    filename='analysis.log',\n",
    "    filemode='w'\n",
    ")"
   ]
  },
  {
   "cell_type": "code",
   "execution_count": 17,
   "id": "073a6cbd-803d-4675-897e-93b3c8d69155",
   "metadata": {
    "tags": []
   },
   "outputs": [],
   "source": [
    "def analyze_data(df, price_col, category_col):\n",
    "    try:\n",
    "        # Check if the columns exist in the DataFrame\n",
    "        if price_col not in df.columns or category_col not in df.columns:\n",
    "            raise KeyError(f\"The columns '{price_col}' or '{category_col}' do not exist in the DataFrame.\")\n",
    "        \n",
    "        # Check if there is enough data for analysis\n",
    "        if df.empty:\n",
    "            raise ValueError(\"The DataFrame is empty.\")\n",
    "        \n",
    "        # Check the data types\n",
    "        if not np.issubdtype(df[price_col].dtype, np.number):\n",
    "            logging.error(f\"Column '{price_col}' is not numeric.\")\n",
    "            raise TypeError(f\"The column '{price_col}' must be numeric.\")\n",
    "            \n",
    "        if not pd.api.types.is_categorical_dtype(df[category_col]) and not pd.api.types.is_object_dtype(df[category_col]):\n",
    "            logging.error(f\"Column '{category_col}' is not categorical.\")\n",
    "            raise TypeError(f\"The column '{category_col}' must be categorical.\")\n",
    "        \n",
    "        # 1. One-way ANOVA Test\n",
    "        try:\n",
    "            categories = df[category_col].unique()\n",
    "            if len(categories) < 2:\n",
    "                raise ValueError(\"ANOVA test requires at least two categories.\")\n",
    "            \n",
    "            # Check statistical assumptions\n",
    "            grouped_data = [df[df[category_col] == cat][price_col] for cat in categories]\n",
    "            for cat, group in zip(categories, grouped_data):\n",
    "                shapiro_test = stats.shapiro(group)\n",
    "                if shapiro_test.pvalue < 0.05:\n",
    "                    logging.warning(f\"Violation of normality in category '{cat}' (p={shapiro_test.pvalue:.4f}).\")\n",
    "            levene_test = stats.levene(*grouped_data)\n",
    "            if levene_test.pvalue < 0.05:\n",
    "                logging.warning(f\"Violation of homogeneity of variances (p={levene_test.pvalue:.4f}).\")\n",
    "            \n",
    "            # Perform ANOVA test\n",
    "            anova_result = stats.f_oneway(*grouped_data)\n",
    "            logging.info(f\"ANOVA result: F = {anova_result.statistic:.4f}, p = {anova_result.pvalue:.4f}\")\n",
    "            print(f\"ANOVA result: F = {anova_result.statistic:.4f}, p = {anova_result.pvalue:.4f}\")\n",
    "        except Exception as e:\n",
    "            logging.error(f\"Error performing ANOVA test: {e}\")\n",
    "            print(f\"Error performing ANOVA test: {e}\")\n",
    "        \n",
    "        # 2. Confidence Intervals for Means\n",
    "        try:\n",
    "            confidence_intervals = {}\n",
    "            for cat in categories:\n",
    "                prices = df[df[category_col] == cat][price_col]\n",
    "                if len(prices) < 2:\n",
    "                    logging.warning(f\"Insufficient data to calculate the confidence interval for category '{cat}'.\")\n",
    "                    continue\n",
    "                mean = np.mean(prices)\n",
    "                se = stats.sem(prices)\n",
    "                ci = stats.t.interval(0.95, len(prices) - 1, loc=mean, scale=se)\n",
    "                confidence_intervals[cat] = ci\n",
    "\n",
    "            # Plot confidence intervals\n",
    "            plt.figure(figsize=(8, 5))\n",
    "            for i, (cat, ci) in enumerate(confidence_intervals.items()):\n",
    "                plt.errorbar(i, np.mean(df[df[category_col] == cat][price_col]), \n",
    "                             yerr=(ci[1] - ci[0]) / 2, fmt='o', label=cat)\n",
    "            plt.xticks(range(len(confidence_intervals)), confidence_intervals.keys())\n",
    "            plt.ylabel(\"Average Price\")\n",
    "            plt.title(\"95% Confidence Intervals for Average Prices\")\n",
    "            plt.legend()\n",
    "            plt.show()\n",
    "\n",
    "        except Exception as e:\n",
    "            logging.error(f\"Error calculating or plotting confidence intervals: {e}\")\n",
    "            print(f\"Error calculating or plotting confidence intervals: {e}\")\n",
    "        \n",
    "        # 3. Identify potential outliers using z-scores\n",
    "        try:\n",
    "            z_scores = stats.zscore(df[price_col])\n",
    "            df['z_score'] = z_scores\n",
    "            outliers = df[np.abs(z_scores) > 3]\n",
    "            logging.info(f\"Number of outliers identified: {len(outliers)}\")\n",
    "            print(f\"Number of outliers identified: {len(outliers)}\")\n",
    "            \n",
    "            if not outliers.empty:\n",
    "                logging.info(f\"Identified outliers:\\n{outliers}\")\n",
    "                print(outliers)\n",
    "                \n",
    "        except Exception as e:\n",
    "            logging.error(f\"Error identifying outliers: {e}\")\n",
    "            print(f\"Error identifying outliers: {e}\")\n",
    "\n",
    "    except Exception as e:\n",
    "        logging.critical(f\"Critical error in data analysis: {e}\")\n",
    "        print(f\"Error in data analysis: {e}\")\n"
   ]
  },
  {
   "cell_type": "code",
   "execution_count": 18,
   "id": "f6ad17bf-7685-4390-9de2-9aaf799d40f2",
   "metadata": {
    "tags": []
   },
   "outputs": [],
   "source": [
    "df_raw = pickle.load(open('./data/sales_data.pkl', 'rb'))"
   ]
  },
  {
   "cell_type": "code",
   "execution_count": 19,
   "id": "60b7c83f-32b8-4aa1-a700-bad319840cc8",
   "metadata": {
    "tags": []
   },
   "outputs": [
    {
     "name": "stderr",
     "output_type": "stream",
     "text": [
      "/tmp/ipykernel_88926/3477135274.py:16: DeprecationWarning: is_categorical_dtype is deprecated and will be removed in a future version. Use isinstance(dtype, pd.CategoricalDtype) instead\n",
      "  if not pd.api.types.is_categorical_dtype(df[category_col]) and not pd.api.types.is_object_dtype(df[category_col]):\n"
     ]
    },
    {
     "name": "stdout",
     "output_type": "stream",
     "text": [
      "ANOVA result: F = 0.3966, p = 0.8112\n"
     ]
    },
    {
     "data": {
      "image/png": "[encoded data removed]",
      "text/plain": [
       "<Figure size 800x500 with 1 Axes>"
      ]
     },
     "metadata": {},
     "output_type": "display_data"
    },
    {
     "name": "stdout",
     "output_type": "stream",
     "text": [
      "Number of outliers identified: 2\n",
      "     sale_id  sale_date       category       price  quantity   z_score\n",
      "975      976 2025-09-02  Home & Garden   12.359485         6 -3.023540\n",
      "999     1000 2025-09-26    Electronics  195.793227         8  3.171194\n"
     ]
    }
   ],
   "source": [
    "analyze_data(df_raw, price_col='price', category_col='category')"
   ]
  },
  {
   "cell_type": "code",
   "execution_count": null,
   "id": "1afad7f1-d519-4819-b006-bcdd85abcad1",
   "metadata": {},
   "outputs": [],
   "source": []
  },
  {
   "cell_type": "code",
   "execution_count": null,
   "id": "db0108af-6f1b-45b1-a67b-62ae204116eb",
   "metadata": {},
   "outputs": [],
   "source": []
  },
  {
   "cell_type": "code",
   "execution_count": null,
   "id": "e3776e46-cc47-46da-b0ba-bb247aae30d8",
   "metadata": {},
   "outputs": [],
   "source": []
  },
  {
   "cell_type": "code",
   "execution_count": null,
   "id": "058e6081-7bfe-4b3d-bd70-8e4c6a14760f",
   "metadata": {},
   "outputs": [],
   "source": [
    "def perform_chi_square(data):\n",
    "    # observed = data.groupby(['category', 'status']).size()            # wrong\n",
    "    observed = pd.crosstab(data['category'], data['status'])            # correct\n",
    "    chi2, p_value = stats.chi2_contingency(observed)\n",
    "    return chi2, p_value"
   ]
  },
  {
   "cell_type": "code",
   "execution_count": null,
   "id": "1f90fe03-58df-42f2-affd-11e870d73828",
   "metadata": {},
   "outputs": [],
   "source": []
  },
  {
   "cell_type": "code",
   "execution_count": null,
   "id": "295e230d-db61-4248-9c23-ec1e66038c13",
   "metadata": {},
   "outputs": [],
   "source": [
    "def perform_chi_square(data):\n",
    "    try:\n",
    "        # Check data types\n",
    "        if not all(col in data.columns for col in ['category', 'status']):\n",
    "            logging.error(\"DataFrame does not contain the 'category' and 'status' columns.\")\n",
    "            raise ValueError(\"Missing 'category' and 'status' columns in the DataFrame.\")\n",
    "        \n",
    "        if not pd.api.types.is_categorical_dtype(data['category']) or not pd.api.types.is_categorical_dtype(data['status']):\n",
    "            logging.warning(\"The 'category' and 'status' columns are not categorical types. This may affect the chi-square test.\")\n",
    "        \n",
    "        # Generate the contingency table\n",
    "        # observed = data.groupby(['category', 'status']).size()      # wrong line\n",
    "        observed = pd.crosstab(data['category'], data['status'])      # correct code\n",
    "\n",
    "        # Check the adequacy of the contingency table\n",
    "        if (observed < 5).any().any():  # If there are cells with expected values less than 5\n",
    "            logging.warning(\"Some cells have expected values less than 5. This may affect the validity of the test.\")\n",
    "        \n",
    "        # Perform the Chi-square test\n",
    "        chi2, p_value = stats.chi2_contingency(observed)\n",
    "\n",
    "        # Check if the p-value is invalid\n",
    "        if p_value < 0 or p_value > 1:\n",
    "            logging.error(f\"Error in p-value calculation: {p_value}. The p-value must be between 0 and 1.\")\n",
    "            raise ValueError(\"Invalid p-value calculation.\")\n",
    "\n",
    "        return chi2, p_value\n",
    "\n",
    "    except Exception as e:\n",
    "        logging.exception(f\"An error occurred while performing the chi-square test: {e}\")\n",
    "        raise\n"
   ]
  },
  {
   "cell_type": "code",
   "execution_count": null,
   "id": "fefe48b6-e755-4a88-a4f4-3c401d4e9607",
   "metadata": {},
   "outputs": [],
   "source": []
  }
 ],
 "metadata": {
  "kernelspec": {
   "display_name": "Python 3 (ipykernel)",
   "language": "python",
   "name": "python3"
  },
  "language_info": {
   "codemirror_mode": {
    "name": "ipython",
    "version": 3
   },
   "file_extension": ".py",
   "mimetype": "text/x-python",
   "name": "python",
   "nbconvert_exporter": "python",
   "pygments_lexer": "ipython3",
   "version": "3.10.6"
  }
 },
 "nbformat": 4,
 "nbformat_minor": 5
}
