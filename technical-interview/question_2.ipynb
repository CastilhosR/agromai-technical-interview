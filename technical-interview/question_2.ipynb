{
 "cells": [
  {
   "cell_type": "code",
   "execution_count": 1,
   "id": "2c4b8aae-b8ad-4d5d-b32f-37cf1dc25b1d",
   "metadata": {
    "tags": []
   },
   "outputs": [],
   "source": [
    "import pandas as pd\n",
    "import numpy as np\n",
    "import pickle"
   ]
  },
  {
   "cell_type": "code",
   "execution_count": 2,
   "id": "20cf6a82-4756-43a1-9562-9377ec506227",
   "metadata": {
    "tags": []
   },
   "outputs": [],
   "source": [
    "df_raw = pd.read_csv('./data/customer_purchases.csv')"
   ]
  },
  {
   "cell_type": "code",
   "execution_count": 14,
   "id": "bb167ea9-3334-4f5b-9c35-7fa57f1bdc8c",
   "metadata": {
    "tags": []
   },
   "outputs": [
    {
     "name": "stdout",
     "output_type": "stream",
     "text": [
      "1000 lihas e 5 colunas\n"
     ]
    }
   ],
   "source": [
    "l, c = df_raw.shape\n",
    "print(f'{l} lihas e {c} colunas' )"
   ]
  },
  {
   "cell_type": "code",
   "execution_count": 5,
   "id": "72971ec4-6fc9-406c-8810-8c30880baf35",
   "metadata": {
    "tags": []
   },
   "outputs": [],
   "source": [
    "df_raw['purchase_date'] = pd.to_datetime(df_raw['purchase_date'])"
   ]
  },
  {
   "cell_type": "code",
   "execution_count": 6,
   "id": "4c200e49-5104-472d-a865-aef227f358ba",
   "metadata": {
    "tags": []
   },
   "outputs": [],
   "source": [
    "df1 = df_raw.copy()"
   ]
  },
  {
   "cell_type": "code",
   "execution_count": 7,
   "id": "89eec2b3-098d-465e-a573-f1eb28346768",
   "metadata": {
    "tags": []
   },
   "outputs": [],
   "source": [
    "# 1. Calcular métricas por cliente\n",
    "customer_metrics = df1.groupby('customer_id').agg(\n",
    "                   total_spent=('amount', 'sum'),\n",
    "                   avg_purchase_value=('amount', 'mean'),\n",
    "                   num_purchases=('purchase_id', 'count'),\n",
    "                   most_frequent_category=('category', lambda x: x.mode()[0] if not x.mode().empty else None)\n",
    ").reset_index()"
   ]
  },
  {
   "cell_type": "code",
   "execution_count": 8,
   "id": "959dd81f-557a-422e-8e6b-0aa33670f753",
   "metadata": {
    "tags": []
   },
   "outputs": [],
   "source": [
    "top_5_customers = customer_metrics.nlargest(5, 'total_spent')\n",
    "bottom_5_customers = customer_metrics.nsmallest(5, 'total_spent')"
   ]
  },
  {
   "cell_type": "code",
   "execution_count": 9,
   "id": "69accb92-aa23-46fb-b64a-b5ef166fb4eb",
   "metadata": {
    "tags": []
   },
   "outputs": [],
   "source": [
    "df1['month'] = df1['purchase_date'].dt.to_period('M')"
   ]
  },
  {
   "cell_type": "code",
   "execution_count": 10,
   "id": "2ce2b9fb-0d14-4365-a03e-2745f772469b",
   "metadata": {
    "tags": []
   },
   "outputs": [],
   "source": [
    "monthly_trends = df1.groupby('month').agg(\n",
    "                 total_sales=('amount', 'sum'),\n",
    "                 avg_purchase_value=('amount', 'mean')\n",
    ").reset_index()"
   ]
  },
  {
   "cell_type": "code",
   "execution_count": 11,
   "id": "f02adc8a-3228-4edf-8575-12809c7dcab1",
   "metadata": {
    "tags": []
   },
   "outputs": [],
   "source": [
    "latest_date = df1['purchase_date'].max()\n",
    "three_months_ago = latest_date - pd.DateOffset(months=3)\n",
    "\n",
    "inactive_customers = df1[df1['purchase_date'] <= three_months_ago]['customer_id'].unique()\n",
    "active_customers = df1[df1['purchase_date'] > three_months_ago]['customer_id'].unique()\n",
    "customers_no_recent_purchases = set(inactive_customers) - set(active_customers)"
   ]
  },
  {
   "cell_type": "code",
   "execution_count": 12,
   "id": "a6c2b3b9-14d8-4537-bb8d-ef3809833247",
   "metadata": {
    "tags": []
   },
   "outputs": [
    {
     "name": "stdout",
     "output_type": "stream",
     "text": [
      "Customer Metrics:\n",
      "  customer_id  total_spent  avg_purchase_value  num_purchases  \\\n",
      "0    CUST_001      1550.75           96.921875             16   \n",
      "1    CUST_002      1313.75          101.057692             13   \n",
      "2    CUST_003      1323.92          110.326667             12   \n",
      "3    CUST_004      1102.69          100.244545             11   \n",
      "4    CUST_005      1199.27          109.024545             11   \n",
      "\n",
      "  most_frequent_category  \n",
      "0          Home & Garden  \n",
      "1            Electronics  \n",
      "2               Clothing  \n",
      "3            Electronics  \n",
      "4            Electronics  \n",
      "\n",
      "Top 5 customers - total amount:\n",
      "   customer_id  total_spent  avg_purchase_value  num_purchases  \\\n",
      "61    CUST_062      2102.22          110.643158             19   \n",
      "89    CUST_090      2040.24          102.012000             20   \n",
      "98    CUST_099      2000.90          111.161111             18   \n",
      "91    CUST_092      1779.33           93.648947             19   \n",
      "32    CUST_033      1775.29           98.627222             18   \n",
      "\n",
      "   most_frequent_category  \n",
      "61          Home & Garden  \n",
      "89            Electronics  \n",
      "98                 Sports  \n",
      "91               Clothing  \n",
      "32                  Books  \n",
      "\n",
      "Bottom 5 customers - total amount:\n",
      "   customer_id  total_spent  avg_purchase_value  num_purchases  \\\n",
      "30    CUST_031       356.43            118.8100              3   \n",
      "10    CUST_011       373.26             93.3150              4   \n",
      "82    CUST_083       450.57            112.6425              4   \n",
      "39    CUST_040       459.16             91.8320              5   \n",
      "90    CUST_091       480.91             96.1820              5   \n",
      "\n",
      "   most_frequent_category  \n",
      "30            Electronics  \n",
      "10                 Sports  \n",
      "82               Clothing  \n",
      "39            Electronics  \n",
      "90          Home & Garden  \n",
      "\n",
      "Purchase Monthly Trends:\n",
      "     month  total_sales  avg_purchase_value\n",
      "0  2023-01     12531.88          102.720328\n",
      "1  2023-02      8860.30          104.238824\n",
      "2  2023-03     10244.64          101.432079\n",
      "3  2023-04     10129.62          100.293267\n",
      "4  2023-05      9968.57          101.720102\n",
      "5  2023-06     11731.21          103.816018\n",
      "6  2023-07      8154.34          101.929250\n",
      "7  2023-08     11633.22          102.948850\n",
      "8  2023-09      8681.77          100.950814\n",
      "9  2023-10     10057.56           99.579802\n",
      "\n",
      "Customers without purchases in the last 3 months:\n",
      "{'CUST_048', 'CUST_067', 'CUST_016', 'CUST_041', 'CUST_031'}\n"
     ]
    }
   ],
   "source": [
    "print(\"Customer Metrics:\")\n",
    "print(customer_metrics.head())\n",
    "\n",
    "print(\"\\nTop 5 customers - total amount:\")\n",
    "print(top_5_customers)\n",
    "\n",
    "print(\"\\nBottom 5 customers - total amount:\")\n",
    "print(bottom_5_customers)\n",
    "\n",
    "print(\"\\nPurchase Monthly Trends:\")\n",
    "print(monthly_trends)\n",
    "\n",
    "print(\"\\nCustomers without purchases in the last 3 months:\")\n",
    "print(customers_no_recent_purchases)"
   ]
  },
  {
   "cell_type": "code",
   "execution_count": null,
   "id": "f30768e5-c414-49a4-ae0c-f382cba4ea14",
   "metadata": {},
   "outputs": [],
   "source": []
  },
  {
   "cell_type": "code",
   "execution_count": 13,
   "id": "4b7862bd-bf43-4483-933c-bd367b2a6f44",
   "metadata": {},
   "outputs": [],
   "source": [
    "pickle.dump(df1, open('./data/customer_purchases.pkl', 'wb'))"
   ]
  },
  {
   "cell_type": "code",
   "execution_count": null,
   "id": "eea26b53-b967-449a-b9b0-cde953eeddf9",
   "metadata": {},
   "outputs": [],
   "source": []
  }
 ],
 "metadata": {
  "kernelspec": {
   "display_name": "Python 3 (ipykernel)",
   "language": "python",
   "name": "python3"
  },
  "language_info": {
   "codemirror_mode": {
    "name": "ipython",
    "version": 3
   },
   "file_extension": ".py",
   "mimetype": "text/x-python",
   "name": "python",
   "nbconvert_exporter": "python",
   "pygments_lexer": "ipython3",
   "version": "3.10.6"
  }
 },
 "nbformat": 4,
 "nbformat_minor": 5
}
