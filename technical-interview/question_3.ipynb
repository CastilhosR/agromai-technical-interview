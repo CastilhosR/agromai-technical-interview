{
 "cells": [
  {
   "cell_type": "code",
   "execution_count": 1,
   "id": "336b2244-4b76-45fb-997f-9919275821d9",
   "metadata": {
    "tags": []
   },
   "outputs": [],
   "source": [
    "import pandas as pd\n",
    "import numpy as np\n",
    "\n",
    "import plotly.express as px\n",
    "import plotly.graph_objects as go\n",
    "\n",
    "import pickle"
   ]
  },
  {
   "cell_type": "code",
   "execution_count": 2,
   "id": "ad14fa16-b146-40e6-8b4c-49f89bbd8950",
   "metadata": {
    "tags": []
   },
   "outputs": [],
   "source": [
    "df_raw = pickle.load(open('./data/sales_data.pkl', 'rb'))"
   ]
  },
  {
   "cell_type": "code",
   "execution_count": 3,
   "id": "7c11d680-54bc-4606-aa55-02a30481edbb",
   "metadata": {
    "tags": []
   },
   "outputs": [],
   "source": [
    "df_raw.set_index('sale_date', inplace=True)"
   ]
  },
  {
   "cell_type": "code",
   "execution_count": 4,
   "id": "1d4f1bf2-2cb7-485a-a859-fbf69b899c02",
   "metadata": {
    "tags": []
   },
   "outputs": [],
   "source": [
    "df1 = df_raw.copy()"
   ]
  },
  {
   "cell_type": "code",
   "execution_count": 5,
   "id": "44de6249-077b-4af3-b924-1faf8141dfee",
   "metadata": {
    "tags": []
   },
   "outputs": [],
   "source": [
    "df1[\"total_sales\"] = df1[\"price\"] * df1[\"quantity\"]"
   ]
  },
  {
   "cell_type": "code",
   "execution_count": 6,
   "id": "d88ff217-0849-4c31-b28e-a1af2f62fffd",
   "metadata": {
    "tags": []
   },
   "outputs": [],
   "source": [
    "df1['7_day_avg'] = df1['total_sales'].rolling(window=7).mean()"
   ]
  },
  {
   "cell_type": "code",
   "execution_count": 7,
   "id": "fc2642f8-52b6-4048-8f24-e7af3edd893f",
   "metadata": {
    "tags": []
   },
   "outputs": [],
   "source": [
    "# 1. Linhas com tendência de vendas diárias e média móvel de 7 dias\n",
    "\n",
    "fig1 = go.Figure()\n",
    "\n",
    "fig1.add_trace(go.Scatter(x=df1.index, y=df1['total_sales'], mode='lines', name='Vendas Diárias'))\n",
    "fig1.add_trace(go.Scatter(x=df1.index, y=df1['7_day_avg'], mode='lines', name='Média Móvel de 7 Dias', line=dict(dash='dash')))\n",
    "\n",
    "# Personalizando o gráfico\n",
    "fig1.update_layout(\n",
    "    title='Tendência Diária de Vendas',\n",
    "    xaxis_title='Data',\n",
    "    yaxis_title='Vendas Totais',\n",
    "    template='plotly',\n",
    "    legend_title=\"Legenda\",\n",
    "    height=600\n",
    ")\n",
    "# fig1.show();\n",
    "\n",
    "# Salvando o gráfico como PNG\n",
    "fig1.write_image(\"sales_trend.png\")"
   ]
  },
  {
   "cell_type": "code",
   "execution_count": 8,
   "id": "2898a531-6f3c-4393-8698-1740b81ef13a",
   "metadata": {
    "tags": []
   },
   "outputs": [],
   "source": [
    "# 2. Barras com vendas totais por categoria e barras de erro (desvio padrão)\n",
    "\n",
    "category_sales = df1.groupby('category')['total_sales'].sum()\n",
    "category_std = df1.groupby('category')['total_sales'].std()\n",
    "\n",
    "# Criando o gráfico de barras\n",
    "fig2 = go.Figure()\n",
    "\n",
    "fig2.add_trace(go.Bar(\n",
    "    x=category_sales.index,\n",
    "    y=category_sales,\n",
    "    name='Vendas Totais',\n",
    "    error_y=dict(type='data', array=category_std, visible=True)\n",
    "))\n",
    "\n",
    "# Personalizando o gráfico\n",
    "fig2.update_layout(\n",
    "    title='Vendas Totais por Categoria',\n",
    "    xaxis_title='Categoria',\n",
    "    yaxis_title='Vendas Totais',\n",
    "    template='plotly',\n",
    "    legend_title=\"Legenda\",\n",
    "    height=600\n",
    ")\n",
    "\n",
    "# fig2.show();\n",
    "\n",
    "# Salvando o gráfico como PNG\n",
    "fig2.write_image(\"category_sales.png\")"
   ]
  },
  {
   "cell_type": "code",
   "execution_count": 9,
   "id": "a45fdbe2-b22d-45ae-ad5a-2f464295f968",
   "metadata": {
    "tags": []
   },
   "outputs": [],
   "source": [
    "# 3. Scatter de quantidade e preço, colorido por categoria e com linha de tendência (ficou estranho)\n",
    "\n",
    "fig3 = px.scatter(df1, x='quantity', y='price', color='category', trendline=\"ols\", \n",
    "                  title='Relação entre Quantidade e Preço', labels={'quantity': 'Quantidade', 'price': 'Preço'})\n",
    "\n",
    "# Personalizando o gráfico\n",
    "fig3.update_layout(\n",
    "    title='Relação entre Quantidade e Preço',\n",
    "    xaxis_title='Quantidade',\n",
    "    yaxis_title='Preço',\n",
    "    template='plotly',\n",
    "    legend_title=\"Categoria\",\n",
    "    height=600\n",
    ")\n",
    "\n",
    "# fig3.show();\n",
    "\n",
    "# Salvando o gráfico como PNG\n",
    "fig3.write_image(\"quantity_price_relationship.png\")"
   ]
  },
  {
   "cell_type": "code",
   "execution_count": null,
   "id": "255ab83d-0f7e-4913-b79b-e2c66a135cc9",
   "metadata": {},
   "outputs": [],
   "source": []
  },
  {
   "cell_type": "code",
   "execution_count": null,
   "id": "388b70d9-375b-46ff-b4cc-03fcbd064530",
   "metadata": {},
   "outputs": [],
   "source": []
  },
  {
   "cell_type": "code",
   "execution_count": null,
   "id": "b338e52e-8571-47af-af4c-ae5fa616eee2",
   "metadata": {},
   "outputs": [],
   "source": []
  }
 ],
 "metadata": {
  "kernelspec": {
   "display_name": "Python 3 (ipykernel)",
   "language": "python",
   "name": "python3"
  },
  "language_info": {
   "codemirror_mode": {
    "name": "ipython",
    "version": 3
   },
   "file_extension": ".py",
   "mimetype": "text/x-python",
   "name": "python",
   "nbconvert_exporter": "python",
   "pygments_lexer": "ipython3",
   "version": "3.10.6"
  }
 },
 "nbformat": 4,
 "nbformat_minor": 5
}
